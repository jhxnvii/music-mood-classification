{
 "cells": [
  {
   "cell_type": "code",
   "execution_count": 1,
   "id": "10b7e17a",
   "metadata": {},
   "outputs": [],
   "source": [
    "import pandas as pd\n",
    "from sklearn.preprocessing import StandardScaler\n",
    "from sklearn.linear_model import LogisticRegression\n",
    "from sklearn.metrics import accuracy_score\n",
    "from sklearn.model_selection import cross_val_score, cross_val_predict\n",
    "from sklearn.model_selection import train_test_split\n",
    "from sklearn.model_selection import GridSearchCV\n",
    "import numpy as np\n",
    "\n",
    "features_for_mood = ['energy', 'liveness', 'tempo', 'speechiness',\n",
    "                                     'acousticness', 'instrumentalness', 'danceability', 'duration_ms',\n",
    "                                     'loudness', 'valence']\n",
    "\n",
    "data = pd.read_csv('tracks.csv')"
   ]
  },
  {
   "cell_type": "code",
   "execution_count": 2,
   "id": "9d4bc78c",
   "metadata": {},
   "outputs": [],
   "source": [
    "trainx, testx, trainy, testy = train_test_split(data[features_for_mood], data['mood'], test_size = 0.33,\n",
    "                                                random_state = 42, stratify=data['mood'])"
   ]
  },
  {
   "cell_type": "code",
   "execution_count": 3,
   "id": "710e5f49",
   "metadata": {},
   "outputs": [
    {
     "name": "stdout",
     "output_type": "stream",
     "text": [
      "0.7027863777089783\n"
     ]
    }
   ],
   "source": [
    "scaler = StandardScaler()\n",
    "train_scaled = scaler.fit_transform(trainx[features_for_mood])\n",
    "logreg = LogisticRegression(max_iter=2000)\n",
    "logreg.fit(train_scaled, trainy)\n",
    "print (accuracy_score(logreg.predict(train_scaled), trainy))"
   ]
  },
  {
   "cell_type": "code",
   "execution_count": 4,
   "id": "3c011026",
   "metadata": {},
   "outputs": [
    {
     "name": "stdout",
     "output_type": "stream",
     "text": [
      "0.6532692307692308\n"
     ]
    }
   ],
   "source": [
    "scores = cross_val_score(logreg, train_scaled, trainy, cv=5)\n",
    "print (scores.mean())"
   ]
  },
  {
   "cell_type": "code",
   "execution_count": 5,
   "id": "30b46b63",
   "metadata": {},
   "outputs": [
    {
     "name": "stdout",
     "output_type": "stream",
     "text": [
      "0.1\n",
      "0.6625480769230769\n"
     ]
    }
   ],
   "source": [
    "params = {\"C\" : np.logspace(-6, 3, 10)}\n",
    "clf = GridSearchCV(logreg, params)\n",
    "clf.fit(train_scaled, trainy)\n",
    "print (clf.best_estimator_.C)\n",
    "print (clf.best_score_)"
   ]
  },
  {
   "cell_type": "code",
   "execution_count": 7,
   "id": "8e92d177",
   "metadata": {},
   "outputs": [
    {
     "name": "stdout",
     "output_type": "stream",
     "text": [
      "0.6\n"
     ]
    }
   ],
   "source": [
    "logreg = LogisticRegression(max_iter=2000, C=0.1)\n",
    "logreg.fit(train_scaled, trainy)\n",
    "preds = clf.predict(test_scaled)\n",
    "print (accuracy_score(preds, testy))"
   ]
  },
  {
   "cell_type": "code",
   "execution_count": 10,
   "id": "e3cdc2fb",
   "metadata": {},
   "outputs": [],
   "source": [
    "import math"
   ]
  },
  {
   "cell_type": "code",
   "execution_count": 11,
   "id": "4263a8a0",
   "metadata": {},
   "outputs": [
    {
     "data": {
      "text/plain": [
       "Aggressive         speechiness\n",
       "Dark              acousticness\n",
       "Energetic               energy\n",
       "Happy                  valence\n",
       "Relaxing      instrumentalness\n",
       "dtype: object"
      ]
     },
     "execution_count": 11,
     "metadata": {},
     "output_type": "execute_result"
    }
   ],
   "source": [
    "fi = pd.DataFrame(clf.best_estimator_.coef_, columns=features_for_mood)\n",
    "pow(math.e, fi)\n",
    "fo = fi.set_axis(logreg.classes_, axis=0)\n",
    "fo\n",
    "fo.idxmax(axis=1)"
   ]
  },
  {
   "cell_type": "code",
   "execution_count": 12,
   "id": "c4e1165d",
   "metadata": {},
   "outputs": [
    {
     "data": {
      "text/html": [
       "<div>\n",
       "<style scoped>\n",
       "    .dataframe tbody tr th:only-of-type {\n",
       "        vertical-align: middle;\n",
       "    }\n",
       "\n",
       "    .dataframe tbody tr th {\n",
       "        vertical-align: top;\n",
       "    }\n",
       "\n",
       "    .dataframe thead th {\n",
       "        text-align: right;\n",
       "    }\n",
       "</style>\n",
       "<table border=\"1\" class=\"dataframe\">\n",
       "  <thead>\n",
       "    <tr style=\"text-align: right;\">\n",
       "      <th></th>\n",
       "      <th>energy</th>\n",
       "      <th>liveness</th>\n",
       "      <th>tempo</th>\n",
       "      <th>speechiness</th>\n",
       "      <th>acousticness</th>\n",
       "      <th>instrumentalness</th>\n",
       "      <th>danceability</th>\n",
       "      <th>duration_ms</th>\n",
       "      <th>loudness</th>\n",
       "      <th>valence</th>\n",
       "    </tr>\n",
       "  </thead>\n",
       "  <tbody>\n",
       "    <tr>\n",
       "      <th>Aggressive</th>\n",
       "      <td>0.567769</td>\n",
       "      <td>0.064396</td>\n",
       "      <td>0.088847</td>\n",
       "      <td>0.580129</td>\n",
       "      <td>-0.195869</td>\n",
       "      <td>-0.139348</td>\n",
       "      <td>0.283104</td>\n",
       "      <td>0.093854</td>\n",
       "      <td>0.252611</td>\n",
       "      <td>-0.435541</td>\n",
       "    </tr>\n",
       "    <tr>\n",
       "      <th>Dark</th>\n",
       "      <td>-0.369161</td>\n",
       "      <td>-0.010836</td>\n",
       "      <td>-0.053483</td>\n",
       "      <td>-0.119948</td>\n",
       "      <td>0.299276</td>\n",
       "      <td>-0.663417</td>\n",
       "      <td>-0.329764</td>\n",
       "      <td>0.287847</td>\n",
       "      <td>0.184686</td>\n",
       "      <td>-0.378019</td>\n",
       "    </tr>\n",
       "    <tr>\n",
       "      <th>Energetic</th>\n",
       "      <td>0.418039</td>\n",
       "      <td>0.099118</td>\n",
       "      <td>0.049743</td>\n",
       "      <td>-0.139246</td>\n",
       "      <td>-0.527507</td>\n",
       "      <td>0.352835</td>\n",
       "      <td>-0.254538</td>\n",
       "      <td>0.299224</td>\n",
       "      <td>0.093253</td>\n",
       "      <td>0.379563</td>\n",
       "    </tr>\n",
       "    <tr>\n",
       "      <th>Happy</th>\n",
       "      <td>-0.199490</td>\n",
       "      <td>-0.057571</td>\n",
       "      <td>0.124830</td>\n",
       "      <td>-0.238279</td>\n",
       "      <td>0.056677</td>\n",
       "      <td>-0.227825</td>\n",
       "      <td>0.675224</td>\n",
       "      <td>-0.119654</td>\n",
       "      <td>0.037214</td>\n",
       "      <td>0.724735</td>\n",
       "    </tr>\n",
       "    <tr>\n",
       "      <th>Relaxing</th>\n",
       "      <td>-0.417157</td>\n",
       "      <td>-0.095106</td>\n",
       "      <td>-0.209936</td>\n",
       "      <td>-0.082657</td>\n",
       "      <td>0.367423</td>\n",
       "      <td>0.677756</td>\n",
       "      <td>-0.374025</td>\n",
       "      <td>-0.561270</td>\n",
       "      <td>-0.567763</td>\n",
       "      <td>-0.290738</td>\n",
       "    </tr>\n",
       "  </tbody>\n",
       "</table>\n",
       "</div>"
      ],
      "text/plain": [
       "              energy  liveness     tempo  speechiness  acousticness  \\\n",
       "Aggressive  0.567769  0.064396  0.088847     0.580129     -0.195869   \n",
       "Dark       -0.369161 -0.010836 -0.053483    -0.119948      0.299276   \n",
       "Energetic   0.418039  0.099118  0.049743    -0.139246     -0.527507   \n",
       "Happy      -0.199490 -0.057571  0.124830    -0.238279      0.056677   \n",
       "Relaxing   -0.417157 -0.095106 -0.209936    -0.082657      0.367423   \n",
       "\n",
       "            instrumentalness  danceability  duration_ms  loudness   valence  \n",
       "Aggressive         -0.139348      0.283104     0.093854  0.252611 -0.435541  \n",
       "Dark               -0.663417     -0.329764     0.287847  0.184686 -0.378019  \n",
       "Energetic           0.352835     -0.254538     0.299224  0.093253  0.379563  \n",
       "Happy              -0.227825      0.675224    -0.119654  0.037214  0.724735  \n",
       "Relaxing            0.677756     -0.374025    -0.561270 -0.567763 -0.290738  "
      ]
     },
     "execution_count": 12,
     "metadata": {},
     "output_type": "execute_result"
    }
   ],
   "source": [
    "fo"
   ]
  },
  {
   "cell_type": "code",
   "execution_count": 13,
   "id": "bb9940a2",
   "metadata": {},
   "outputs": [],
   "source": [
    "fo.to_csv('fo.csv', sep='\\t')"
   ]
  }
 ],
 "metadata": {
  "kernelspec": {
   "display_name": "Python 3",
   "language": "python",
   "name": "python3"
  },
  "language_info": {
   "codemirror_mode": {
    "name": "ipython",
    "version": 3
   },
   "file_extension": ".py",
   "mimetype": "text/x-python",
   "name": "python",
   "nbconvert_exporter": "python",
   "pygments_lexer": "ipython3",
   "version": "3.8.5"
  }
 },
 "nbformat": 4,
 "nbformat_minor": 5
}
